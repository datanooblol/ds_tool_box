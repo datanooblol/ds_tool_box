{
 "cells": [
  {
   "cell_type": "code",
   "execution_count": 335,
   "metadata": {},
   "outputs": [],
   "source": [
    "import numpy as np"
   ]
  },
  {
   "cell_type": "code",
   "execution_count": 336,
   "metadata": {},
   "outputs": [
    {
     "name": "stdout",
     "output_type": "stream",
     "text": [
      "[[ 0  8  5  7  0  0  0  0]\n",
      " [ 0  0  0  0  7  5  0  0]\n",
      " [ 0  0  0  0 11 10  0  0]\n",
      " [ 0  0  0  0  0  7  4  0]\n",
      " [ 0  0  0  0  0  0  0  5]\n",
      " [ 0  0  0  0  0  0  0  8]\n",
      " [ 0  0  0  0  0  0  0 11]\n",
      " [ 0  0  0  0  0  0  0  0]]\n"
     ]
    }
   ],
   "source": [
    "A = np.array([\n",
    "    [0,8,5,7,0,0,0,0],\n",
    "    [0,0,0,0,7,5,0,0],\n",
    "    [0,0,0,0,11,10,0,0],\n",
    "    [0,0,0,0,0,7,4,0],\n",
    "    [0,0,0,0,0,0,0,5],\n",
    "    [0,0,0,0,0,0,0,8],\n",
    "    [0,0,0,0,0,0,0,11],\n",
    "    [0,0,0,0,0,0,0,0]\n",
    "])\n",
    "print(A)"
   ]
  },
  {
   "cell_type": "code",
   "execution_count": 337,
   "metadata": {},
   "outputs": [
    {
     "name": "stdout",
     "output_type": "stream",
     "text": [
      "[[ 0  8 10  0  0  0]\n",
      " [ 0  0  0 11 11  0]\n",
      " [ 0  0  0  7  9  0]\n",
      " [ 0  0  0  0  0  9]\n",
      " [ 0  0  0  0  0  8]\n",
      " [ 0  0  0  0  0  0]]\n"
     ]
    }
   ],
   "source": [
    "B = np.array([\n",
    "    [0,8,10,0,0,0],\n",
    "    [0,0,0,11,11,0],\n",
    "    [0,0,0,7,9,0],\n",
    "    [0,0,0,0,0,9],\n",
    "    [0,0,0,0,0,8],\n",
    "    [0,0,0,0,0,0]\n",
    "])\n",
    "print(B)"
   ]
  },
  {
   "cell_type": "code",
   "execution_count": 338,
   "metadata": {},
   "outputs": [
    {
     "name": "stdout",
     "output_type": "stream",
     "text": [
      "[[ 0  4  5  8  0  0  0  0  0  0]\n",
      " [ 0  0  0  3 12  0  0  0  0  0]\n",
      " [ 0  0  0  1  0 11  0  0  0  0]\n",
      " [ 0  0  0  0  9  4 10  0  0  0]\n",
      " [ 0  0  0  0  0  0  6 10  0  0]\n",
      " [ 0  0  0  0  0  0  5  0 11  0]\n",
      " [ 0  0  0  0  0  0  0  3  5 15]\n",
      " [ 0  0  0  0  0  0  0  0  0 14]\n",
      " [ 0  0  0  0  0  0  0  0  0  8]\n",
      " [ 0  0  0  0  0  0  0  0  0  0]]\n"
     ]
    }
   ],
   "source": [
    "C = np.array([\n",
    "    [0,4,5,8,0,0,0,0,0,0],\n",
    "    [0,0,0,3,12,0,0,0,0,0],\n",
    "    [0,0,0,1,0,11,0,0,0,0],\n",
    "    [0,0,0,0,9,4,10,0,0,0],\n",
    "    [0,0,0,0,0,0,6,10,0,0],\n",
    "    [0,0,0,0,0,0,5,0,11,0],\n",
    "    [0,0,0,0,0,0,0,3,5,15],\n",
    "    [0,0,0,0,0,0,0,0,0,14],\n",
    "    [0,0,0,0,0,0,0,0,0,8],\n",
    "    [0,0,0,0,0,0,0,0,0,0]\n",
    "])\n",
    "print(C)"
   ]
  },
  {
   "cell_type": "code",
   "execution_count": 339,
   "metadata": {},
   "outputs": [],
   "source": [
    "def shortest_path(matrix_of_choice):\n",
    "    \n",
    "    matrix = matrix_of_choice.copy()\n",
    "    \n",
    "    len_mat = len(matrix)-1\n",
    "    for i in range(1,len_mat):\n",
    "        matrix[i,:] = matrix[i,:]+np.unique(matrix[:,i])[1]\n",
    "        mask_matrix = matrix[i,:] == np.unique(matrix[:,i])[1]\n",
    "        matrix[i,:][mask_matrix] = 0\n",
    "    \n",
    "    counter = len_mat\n",
    "    shortest_list = [len_mat]\n",
    "\n",
    "    while counter != 0:\n",
    "        counter = np.where(matrix[:,counter] == np.unique(matrix[:,counter])[1])[0]\n",
    "        shortest_list.append(np.int(counter))\n",
    "    shortest_list.sort()\n",
    "    sum_distance = matrix[np.int(shortest_list[-2]),np.int(shortest_list[-1])]\n",
    "    return(matrix,shortest_list,sum_distance)"
   ]
  },
  {
   "cell_type": "code",
   "execution_count": 340,
   "metadata": {},
   "outputs": [
    {
     "data": {
      "text/plain": [
       "(array([[ 0,  8,  5,  7,  0,  0,  0,  0],\n",
       "        [ 0,  0,  0,  0, 15, 13,  0,  0],\n",
       "        [ 0,  0,  0,  0, 16, 15,  0,  0],\n",
       "        [ 0,  0,  0,  0,  0, 14, 11,  0],\n",
       "        [ 0,  0,  0,  0,  0,  0,  0, 20],\n",
       "        [ 0,  0,  0,  0,  0,  0,  0, 21],\n",
       "        [ 0,  0,  0,  0,  0,  0,  0, 22],\n",
       "        [ 0,  0,  0,  0,  0,  0,  0,  0]]), [0, 1, 4, 7], 20)"
      ]
     },
     "execution_count": 340,
     "metadata": {},
     "output_type": "execute_result"
    }
   ],
   "source": [
    "shortest_path(A)"
   ]
  },
  {
   "cell_type": "code",
   "execution_count": 341,
   "metadata": {},
   "outputs": [
    {
     "name": "stdout",
     "output_type": "stream",
     "text": [
      "[[ 0  8  5  7  0  0  0  0]\n",
      " [ 0  0  0  0  7  5  0  0]\n",
      " [ 0  0  0  0 11 10  0  0]\n",
      " [ 0  0  0  0  0  7  4  0]\n",
      " [ 0  0  0  0  0  0  0  5]\n",
      " [ 0  0  0  0  0  0  0  8]\n",
      " [ 0  0  0  0  0  0  0 11]\n",
      " [ 0  0  0  0  0  0  0  0]]\n"
     ]
    }
   ],
   "source": [
    "print(A)"
   ]
  },
  {
   "cell_type": "code",
   "execution_count": 342,
   "metadata": {},
   "outputs": [
    {
     "data": {
      "text/plain": [
       "(array([[ 0,  8, 10,  0,  0,  0],\n",
       "        [ 0,  0,  0, 19, 19,  0],\n",
       "        [ 0,  0,  0, 17, 19,  0],\n",
       "        [ 0,  0,  0,  0,  0, 26],\n",
       "        [ 0,  0,  0,  0,  0, 27],\n",
       "        [ 0,  0,  0,  0,  0,  0]]), [0, 2, 3, 5], 26)"
      ]
     },
     "execution_count": 342,
     "metadata": {},
     "output_type": "execute_result"
    }
   ],
   "source": [
    "shortest_path(B)"
   ]
  },
  {
   "cell_type": "code",
   "execution_count": 343,
   "metadata": {},
   "outputs": [
    {
     "name": "stdout",
     "output_type": "stream",
     "text": [
      "[[ 0  8 10  0  0  0]\n",
      " [ 0  0  0 11 11  0]\n",
      " [ 0  0  0  7  9  0]\n",
      " [ 0  0  0  0  0  9]\n",
      " [ 0  0  0  0  0  8]\n",
      " [ 0  0  0  0  0  0]]\n"
     ]
    }
   ],
   "source": [
    "print(B)"
   ]
  },
  {
   "cell_type": "code",
   "execution_count": 344,
   "metadata": {},
   "outputs": [
    {
     "data": {
      "text/plain": [
       "(array([[ 0,  4,  5,  8,  0,  0,  0,  0,  0,  0],\n",
       "        [ 0,  0,  0,  7, 16,  0,  0,  0,  0,  0],\n",
       "        [ 0,  0,  0,  6,  0, 16,  0,  0,  0,  0],\n",
       "        [ 0,  0,  0,  0, 15, 10, 16,  0,  0,  0],\n",
       "        [ 0,  0,  0,  0,  0,  0, 21, 25,  0,  0],\n",
       "        [ 0,  0,  0,  0,  0,  0, 15,  0, 21,  0],\n",
       "        [ 0,  0,  0,  0,  0,  0,  0, 18, 20, 30],\n",
       "        [ 0,  0,  0,  0,  0,  0,  0,  0,  0, 32],\n",
       "        [ 0,  0,  0,  0,  0,  0,  0,  0,  0, 28],\n",
       "        [ 0,  0,  0,  0,  0,  0,  0,  0,  0,  0]]), [0, 2, 3, 5, 6, 8, 9], 28)"
      ]
     },
     "execution_count": 344,
     "metadata": {},
     "output_type": "execute_result"
    }
   ],
   "source": [
    "shortest_path(C)"
   ]
  },
  {
   "cell_type": "code",
   "execution_count": 345,
   "metadata": {},
   "outputs": [
    {
     "name": "stdout",
     "output_type": "stream",
     "text": [
      "[[ 0  4  5  8  0  0  0  0  0  0]\n",
      " [ 0  0  0  3 12  0  0  0  0  0]\n",
      " [ 0  0  0  1  0 11  0  0  0  0]\n",
      " [ 0  0  0  0  9  4 10  0  0  0]\n",
      " [ 0  0  0  0  0  0  6 10  0  0]\n",
      " [ 0  0  0  0  0  0  5  0 11  0]\n",
      " [ 0  0  0  0  0  0  0  3  5 15]\n",
      " [ 0  0  0  0  0  0  0  0  0 14]\n",
      " [ 0  0  0  0  0  0  0  0  0  8]\n",
      " [ 0  0  0  0  0  0  0  0  0  0]]\n"
     ]
    }
   ],
   "source": [
    "print(C)"
   ]
  },
  {
   "cell_type": "code",
   "execution_count": 346,
   "metadata": {},
   "outputs": [
    {
     "data": {
      "image/png": "[encoded data removed]",
      "text/plain": [
       "<Figure size 1080x720 with 2 Axes>"
      ]
     },
     "metadata": {
      "needs_background": "light"
     },
     "output_type": "display_data"
    }
   ],
   "source": [
    "import seaborn as sns\n",
    "import matplotlib.pyplot as plt\n",
    "%matplotlib inline\n",
    "\n",
    "test_1 = shortest_path(C)[0]+shortest_path(C)[0].T\n",
    "\n",
    "# Generate a mask for the upper triangle\n",
    "mask = np.zeros_like(test_1, dtype=np.bool)\n",
    "mask[np.tril_indices_from(mask)] = True\n",
    "\n",
    "plt.figure(figsize=(15,10))\n",
    "# sns.heatmap(test_1, mask=mask, annot=True)\n",
    "\n",
    "# Generate a custom diverging colormap\n",
    "cmap = sns.diverging_palette(220, 10, as_cmap=True)\n",
    "\n",
    "# Draw the heatmap with the mask and correct aspect ratio\n",
    "sns.heatmap(test_1, mask=mask,annot=True, cmap=cmap, vmax=.3, center=0,\n",
    "            square=True, linewidths=.5, cbar_kws={\"shrink\": .5})\n",
    "\n",
    "plt.tight_layout()"
   ]
  }
 ],
 "metadata": {
  "kernelspec": {
   "display_name": "Python 3",
   "language": "python",
   "name": "python3"
  },
  "language_info": {
   "codemirror_mode": {
    "name": "ipython",
    "version": 3
   },
   "file_extension": ".py",
   "mimetype": "text/x-python",
   "name": "python",
   "nbconvert_exporter": "python",
   "pygments_lexer": "ipython3",
   "version": "3.7.3"
  }
 },
 "nbformat": 4,
 "nbformat_minor": 2
}
